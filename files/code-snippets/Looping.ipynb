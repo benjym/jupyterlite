{
 "cells": [
  {
   "cell_type": "markdown",
   "id": "52885638",
   "metadata": {},
   "source": [
    "How to loop through two dimensions and end up with a list of lists of the right shape"
   ]
  },
  {
   "cell_type": "code",
   "execution_count": 1,
   "id": "343c203e",
   "metadata": {},
   "outputs": [
    {
     "name": "stdout",
     "output_type": "stream",
     "text": [
      "[[0, 1, 2], [0, 1, 2], [0, 1, 2], [0, 1, 2], [0, 1, 2]]\n"
     ]
    }
   ],
   "source": [
    "list_1 = [] # this will contain data for a single row\n",
    "list_2 = [] # this will contain all of the rows\n",
    "\n",
    "for i in range(5): # five rows\n",
    "    for j in range(3): # three columns\n",
    "        list_1.append(j) # add a number to the list (here the column number)\n",
    "    list_2.append(list_1) # add our row to the list of rows\n",
    "    list_1 = [] # reset the row list\n",
    "\n",
    "print(list_2) # show what we made"
   ]
  },
  {
   "cell_type": "code",
   "execution_count": null,
   "id": "a0c57e55",
   "metadata": {},
   "outputs": [],
   "source": []
  }
 ],
 "metadata": {
  "kernelspec": {
   "display_name": "Python 3 (ipykernel)",
   "language": "python",
   "name": "python3"
  },
  "language_info": {
   "codemirror_mode": {
    "name": "ipython",
    "version": 3
   },
   "file_extension": ".py",
   "mimetype": "text/x-python",
   "name": "python",
   "nbconvert_exporter": "python",
   "pygments_lexer": "ipython3",
   "version": "3.8.10"
  }
 },
 "nbformat": 4,
 "nbformat_minor": 5
}
